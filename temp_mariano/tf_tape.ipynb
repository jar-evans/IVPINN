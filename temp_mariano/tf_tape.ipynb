{
 "cells": [
  {
   "cell_type": "code",
   "execution_count": 1,
   "metadata": {},
   "outputs": [
    {
     "name": "stderr",
     "output_type": "stream",
     "text": [
      "2023-11-18 12:03:21.458281: I tensorflow/core/util/port.cc:110] oneDNN custom operations are on. You may see slightly different numerical results due to floating-point round-off errors from different computation orders. To turn them off, set the environment variable `TF_ENABLE_ONEDNN_OPTS=0`.\n",
      "2023-11-18 12:03:21.484833: I tensorflow/tsl/cuda/cudart_stub.cc:28] Could not find cuda drivers on your machine, GPU will not be used.\n",
      "2023-11-18 12:03:21.693932: I tensorflow/tsl/cuda/cudart_stub.cc:28] Could not find cuda drivers on your machine, GPU will not be used.\n",
      "2023-11-18 12:03:21.695422: I tensorflow/core/platform/cpu_feature_guard.cc:182] This TensorFlow binary is optimized to use available CPU instructions in performance-critical operations.\n",
      "To enable the following instructions: AVX2 AVX512F AVX512_VNNI FMA, in other operations, rebuild TensorFlow with the appropriate compiler flags.\n",
      "2023-11-18 12:03:22.721051: W tensorflow/compiler/tf2tensorrt/utils/py_utils.cc:38] TF-TRT Warning: Could not find TensorRT\n"
     ]
    }
   ],
   "source": [
    "import tensorflow as tf \n"
   ]
  },
  {
   "cell_type": "code",
   "execution_count": 13,
   "metadata": {},
   "outputs": [],
   "source": [
    "x=tf.constant(1.0,dtype=tf.float64)\n",
    "w=tf.Variable(3.0,dtype=tf.float64)\n",
    "out=tf.Variable(0.0,dtype=tf.float64)\n",
    "\n",
    "\n",
    "y=tf.constant(4.0,dtype=tf.float64)\n",
    "\n",
    "output=tf.Variable(tf.zeros((10,1),dtype=tf.float64))"
   ]
  },
  {
   "cell_type": "code",
   "execution_count": 83,
   "metadata": {},
   "outputs": [
    {
     "name": "stdout",
     "output_type": "stream",
     "text": [
      "<tf.Variable 'Variable:0' shape=(10, 1) dtype=float64, numpy=\n",
      "array([[0.],\n",
      "       [0.],\n",
      "       [0.],\n",
      "       [0.],\n",
      "       [0.],\n",
      "       [0.],\n",
      "       [0.],\n",
      "       [0.],\n",
      "       [0.],\n",
      "       [0.]])>\n",
      "tf.Tensor(-17.819864938808017, shape=(), dtype=float64)\n",
      "\n",
      "res :  tf.Tensor(0.1411200080598672, shape=(), dtype=float64)\n",
      "\n",
      "<tf.Variable 'Variable:0' shape=(10, 1) dtype=float64, numpy=\n",
      "array([[0.],\n",
      "       [0.],\n",
      "       [0.],\n",
      "       [0.],\n",
      "       [0.],\n",
      "       [0.],\n",
      "       [0.],\n",
      "       [0.],\n",
      "       [0.],\n",
      "       [0.]])>\n",
      "scatter :  SparseTensor(indices=tf.Tensor(\n",
      "[[0 0]\n",
      " [3 0]\n",
      " [8 0]], shape=(3, 2), dtype=int64), values=tf.Tensor([0.14112001 0.28224002 0.42336002], shape=(3,), dtype=float64), dense_shape=tf.Tensor([10  1], shape=(2,), dtype=int64))\n",
      "\n",
      "dense :  tf.Tensor(\n",
      "[[0.14112001]\n",
      " [0.        ]\n",
      " [0.        ]\n",
      " [0.28224002]\n",
      " [0.        ]\n",
      " [0.        ]\n",
      " [0.        ]\n",
      " [0.        ]\n",
      " [0.42336002]\n",
      " [0.        ]], shape=(10, 1), dtype=float64)\n",
      "scatterrrrrrrrrrrrrrrrrrrrrr SparseTensor(indices=tf.Tensor(\n",
      "[[0 0]\n",
      " [3 0]\n",
      " [8 0]], shape=(3, 2), dtype=int64), values=tf.Tensor([0.14112001 0.28224002 0.42336002], shape=(3,), dtype=float64), dense_shape=tf.Tensor([10  1], shape=(2,), dtype=int64))\n",
      "<tf.Variable 'Variable:0' shape=(10, 1) dtype=float64, numpy=\n",
      "array([[0.],\n",
      "       [0.],\n",
      "       [0.],\n",
      "       [0.],\n",
      "       [0.],\n",
      "       [0.],\n",
      "       [0.],\n",
      "       [0.],\n",
      "       [0.],\n",
      "       [0.]])>\n",
      "None\n"
     ]
    }
   ],
   "source": [
    "#net\n",
    "def f(x,w):\n",
    "    return tf.sin(w*x)\n",
    "\n",
    "\n",
    "sum=tf.Variable(tf.zeros((10,1),dtype=tf.float64))\n",
    "print(sum)\n",
    "\n",
    "def grad(x,sum):\n",
    "    with tf.GradientTape() as tape:\n",
    "        tape.watch(x)\n",
    "        res=f(x,w)\n",
    "\n",
    "        print('res : ',res)\n",
    "        print()\n",
    "        \n",
    "        for ii in range(2):\n",
    "\n",
    "            indices = tf.constant([[0+ii, 0], [3+ii, 0], [8+ii, 0]], dtype=tf.int64)\n",
    "\n",
    "            #sum=tf.reduce_sum([[res,2.0*res,3.0*res]],axis=0)\n",
    "            #sum=tf.constant([res,2.0*res,3.0*res],dtype=tf.float64)\n",
    "\n",
    "            print(sum)\n",
    "\n",
    "            dense_shape = tf.constant([10, 1], dtype=tf.int64)\n",
    "\n",
    "\n",
    "            scatter = tf.sparse.SparseTensor(indices=indices, values=[res,2.0*res,3.0*res], dense_shape=dense_shape)\n",
    "            print('scatter : ',scatter)\n",
    "            print()\n",
    "            print('dense : ',tf.sparse.to_dense(scatter))\n",
    "\n",
    "            #scatter_=tf.expand_dims(scatter,axis=1)\n",
    "\n",
    "            #new=tf.sparse.reduce_sum(scatter)\n",
    "            print('scatterrrrrrrrrrrrrrrrrrrrrr',scatter)\n",
    "            break\n",
    "            sum=tf.sparse.add(scatter,sum)\n",
    "\n",
    "    print(sum)\n",
    "    return tape.gradient(sum,x)  #=w*tf.cos(w*x)\n",
    "\n",
    "print(6*w*tf.cos(w*x))\n",
    "print()\n",
    "\n",
    "print(grad(x,sum))"
   ]
  },
  {
   "cell_type": "code",
   "execution_count": 51,
   "metadata": {},
   "outputs": [
    {
     "name": "stdout",
     "output_type": "stream",
     "text": [
      "SparseTensor(indices=tf.Tensor(\n",
      "[[0 0]\n",
      " [1 0]\n",
      " [9 0]], shape=(3, 2), dtype=int64), values=tf.Tensor([1. 2. 3.], shape=(3,), dtype=float32), dense_shape=tf.Tensor([10  1], shape=(2,), dtype=int64))\n",
      "tf.Tensor(\n",
      "[[1.]\n",
      " [2.]\n",
      " [0.]\n",
      " [0.]\n",
      " [0.]\n",
      " [0.]\n",
      " [0.]\n",
      " [0.]\n",
      " [0.]\n",
      " [3.]], shape=(10, 1), dtype=float32)\n"
     ]
    }
   ],
   "source": [
    "indices = tf.constant([[0, 0], [1, 0], [9, 0]], dtype=tf.int64)\n",
    "values = tf.constant([1.0, 2.0, 3.0], dtype=tf.float32)\n",
    "dense_shape = tf.constant([10, 1], dtype=tf.int64)\n",
    "\n",
    "sparse_tensor = tf.sparse.SparseTensor(indices=indices, values=values, dense_shape=dense_shape)\n",
    "\n",
    "\n",
    "print(sparse_tensor)\n",
    "\n",
    "print(tf.sparse.to_dense(sparse_tensor))"
   ]
  },
  {
   "cell_type": "code",
   "execution_count": 45,
   "metadata": {},
   "outputs": [
    {
     "data": {
      "text/plain": [
       "<tf.Tensor: shape=(), dtype=float64, numpy=-2.9699774898013365>"
      ]
     },
     "execution_count": 45,
     "metadata": {},
     "output_type": "execute_result"
    }
   ],
   "source": [
    "grad(x)"
   ]
  },
  {
   "cell_type": "code",
   "execution_count": 58,
   "metadata": {},
   "outputs": [],
   "source": [
    "def loss():\n",
    "    der,res=grad(x)\n",
    "    \n",
    "    return der+res\n"
   ]
  },
  {
   "cell_type": "code",
   "execution_count": 59,
   "metadata": {},
   "outputs": [
    {
     "data": {
      "text/plain": [
       "<tf.Tensor: shape=(), dtype=float64, numpy=-2.4033450173804924>"
      ]
     },
     "execution_count": 59,
     "metadata": {},
     "output_type": "execute_result"
    }
   ],
   "source": [
    "with tf.GradientTape() as tape:\n",
    "  loss_function=loss()\n",
    "tape.gradient(loss_function,w)  # tf.cos(w*x)-x*tf.sin(w*x)"
   ]
  },
  {
   "cell_type": "code",
   "execution_count": 46,
   "metadata": {},
   "outputs": [
    {
     "data": {
      "text/plain": [
       "<tf.Tensor: shape=(), dtype=float64, numpy=-1.413352520780047>"
      ]
     },
     "execution_count": 46,
     "metadata": {},
     "output_type": "execute_result"
    }
   ],
   "source": [
    "tf.cos(w*x)-w*x*tf.sin(x*w)"
   ]
  },
  {
   "cell_type": "code",
   "execution_count": 61,
   "metadata": {},
   "outputs": [
    {
     "data": {
      "text/plain": [
       "<tf.Tensor: shape=(), dtype=int32, numpy=11>"
      ]
     },
     "execution_count": 61,
     "metadata": {},
     "output_type": "execute_result"
    }
   ],
   "source": [
    "tf.reduce_sum([5,6])"
   ]
  },
  {
   "cell_type": "code",
   "execution_count": 17,
   "metadata": {},
   "outputs": [
    {
     "name": "stdout",
     "output_type": "stream",
     "text": [
      "tf.Tensor(\n",
      "[[ 0]\n",
      " [11]\n",
      " [ 0]\n",
      " [10]\n",
      " [ 9]\n",
      " [ 0]\n",
      " [ 0]\n",
      " [12]], shape=(8, 1), dtype=int32)\n"
     ]
    }
   ],
   "source": [
    "indices = tf.constant([[4], [3], [1], [7]])\n",
    "updates = [9, 10, 11, 12]\n",
    "shape = [8]\n",
    "scatter = tf.scatter_nd(indices, updates, shape)\n",
    "scatter_=tf.expand_dims(scatter,axis=1)\n",
    "print(scatter_)"
   ]
  },
  {
   "cell_type": "code",
   "execution_count": 1,
   "metadata": {},
   "outputs": [
    {
     "name": "stderr",
     "output_type": "stream",
     "text": [
      "2023-11-18 02:10:57.789883: I tensorflow/core/util/port.cc:110] oneDNN custom operations are on. You may see slightly different numerical results due to floating-point round-off errors from different computation orders. To turn them off, set the environment variable `TF_ENABLE_ONEDNN_OPTS=0`.\n",
      "2023-11-18 02:10:57.791297: I tensorflow/tsl/cuda/cudart_stub.cc:28] Could not find cuda drivers on your machine, GPU will not be used.\n",
      "2023-11-18 02:10:57.824431: I tensorflow/tsl/cuda/cudart_stub.cc:28] Could not find cuda drivers on your machine, GPU will not be used.\n",
      "2023-11-18 02:10:57.825206: I tensorflow/core/platform/cpu_feature_guard.cc:182] This TensorFlow binary is optimized to use available CPU instructions in performance-critical operations.\n",
      "To enable the following instructions: AVX2 AVX512F AVX512_VNNI FMA, in other operations, rebuild TensorFlow with the appropriate compiler flags.\n",
      "2023-11-18 02:10:58.499510: W tensorflow/compiler/tf2tensorrt/utils/py_utils.cc:38] TF-TRT Warning: Could not find TensorRT\n"
     ]
    },
    {
     "name": "stdout",
     "output_type": "stream",
     "text": [
      "Sum of Vectors: [45. 55. 65. 75. 85.]\n"
     ]
    }
   ],
   "source": [
    "import tensorflow as tf\n",
    "\n",
    "# Example for-loop\n",
    "num_iterations = 10\n",
    "sum_of_vectors = tf.zeros((5,))  # Assuming vectors of length 5\n",
    "\n",
    "for i in range(num_iterations):\n",
    "    # Replace this with your logic to create vector vi for each iteration\n",
    "    vi = tf.constant([float(i), float(i + 1), float(i + 2), float(i + 3), float(i + 4)])\n",
    "    \n",
    "    # Accumulate the vectors\n",
    "    sum_of_vectors += vi\n",
    "\n",
    "# Print the sum of vectors\n",
    "print(\"Sum of Vectors:\", sum_of_vectors.numpy())"
   ]
  },
  {
   "cell_type": "code",
   "execution_count": 84,
   "metadata": {},
   "outputs": [
    {
     "ename": "TypeError",
     "evalue": "can't multiply sequence by non-int of type 'list'",
     "output_type": "error",
     "traceback": [
      "\u001b[0;31m---------------------------------------------------------------------------\u001b[0m",
      "\u001b[0;31mTypeError\u001b[0m                                 Traceback (most recent call last)",
      "\u001b[1;32m/home/mariano/Documenti/progetto serio/IVPINN/temp_mariano/tf_tape.ipynb Cell 12\u001b[0m line \u001b[0;36m5\n\u001b[1;32m      <a href='vscode-notebook-cell:/home/mariano/Documenti/progetto%20serio/IVPINN/temp_mariano/tf_tape.ipynb#X15sZmlsZQ%3D%3D?line=1'>2</a>\u001b[0m v1\u001b[39m=\u001b[39m\u001b[39m2.0\u001b[39m\n\u001b[1;32m      <a href='vscode-notebook-cell:/home/mariano/Documenti/progetto%20serio/IVPINN/temp_mariano/tf_tape.ipynb#X15sZmlsZQ%3D%3D?line=2'>3</a>\u001b[0m v2\u001b[39m=\u001b[39m\u001b[39m3.0\u001b[39m\n\u001b[0;32m----> <a href='vscode-notebook-cell:/home/mariano/Documenti/progetto%20serio/IVPINN/temp_mariano/tf_tape.ipynb#X15sZmlsZQ%3D%3D?line=4'>5</a>\u001b[0m v\u001b[39m=\u001b[39m[v0, v1, v2]\u001b[39m*\u001b[39;49m[\u001b[39m0.0\u001b[39;49m,\u001b[39m0.0\u001b[39;49m,\u001b[39m0.0\u001b[39;49m]\n",
      "\u001b[0;31mTypeError\u001b[0m: can't multiply sequence by non-int of type 'list'"
     ]
    }
   ],
   "source": [
    "v0=1.0\n",
    "v1=2.0\n",
    "v2=3.0\n",
    "\n",
    "v=[v0, v1, v2]*[0.0,0.0,0.0]"
   ]
  }
 ],
 "metadata": {
  "kernelspec": {
   "display_name": "base",
   "language": "python",
   "name": "python3"
  },
  "language_info": {
   "codemirror_mode": {
    "name": "ipython",
    "version": 3
   },
   "file_extension": ".py",
   "mimetype": "text/x-python",
   "name": "python",
   "nbconvert_exporter": "python",
   "pygments_lexer": "ipython3",
   "version": "3.9.6"
  }
 },
 "nbformat": 4,
 "nbformat_minor": 2
}
