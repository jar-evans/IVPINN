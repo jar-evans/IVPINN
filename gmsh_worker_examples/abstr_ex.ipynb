{
 "cells": [
  {
   "cell_type": "code",
   "execution_count": null,
   "metadata": {},
   "outputs": [],
   "source": [
    "import triangle as tr\n",
    "import matplotlib.pyplot as plt\n",
    "import gmsh_worker as gw\n",
    "\n",
    "geo_file = './unit_square_triangles'\n",
    "worker = gw.gmsh_worker(geo_file)"
   ]
  },
  {
   "cell_type": "code",
   "execution_count": null,
   "metadata": {},
   "outputs": [],
   "source": [
    "worker.construct_base_geo('./geo_core.txt', 0.3, 4, 1)\n",
    "worker.generate_parallel_chain(True)"
   ]
  },
  {
   "cell_type": "code",
   "execution_count": null,
   "metadata": {},
   "outputs": [],
   "source": [
    "coarse_mesh = worker.chain[0]\n",
    "fine_mesh = worker.chain[-1]"
   ]
  },
  {
   "cell_type": "code",
   "execution_count": null,
   "metadata": {},
   "outputs": [],
   "source": [
    "import numpy as np\n",
    "filt = np.array(fine_mesh['vertex_markers']).astype(bool).flatten()\n",
    "# print(filt)\n",
    "nodes_on_boundary = np.array(fine_mesh['vertices'])[filt]\n",
    "\n",
    "filt = np.array(fine_mesh['edge_markers']).astype(bool).flatten()\n",
    "nodes_of_edges_on_boundary = fine_mesh['vertices'][fine_mesh['edges'][filt]]\n",
    "nodes_of_edges_on_boundary = np.reshape(nodes_of_edges_on_boundary, (-1,2))\n",
    "\n",
    "plt.figure(figsize=(5.5,5))\n",
    "plt.scatter(nodes_on_boundary[:,0], nodes_on_boundary[:,1], color='green',label='Boundary nodes')\n",
    "plt.scatter(nodes_of_edges_on_boundary[:,0], nodes_of_edges_on_boundary[:,1], color='lightblue',marker='+', label='Nodes of boundary edges')\n",
    "plt.triplot(fine_mesh['vertices'][:,0], fine_mesh['vertices'][:,1], fine_mesh['triangles'], color='lightgrey', zorder=-1)\n",
    "plt.triplot(coarse_mesh['vertices'][:,0], coarse_mesh['vertices'][:,1], coarse_mesh['triangles'], color='grey', zorder=-1)\n",
    "plt.legend()"
   ]
  }
 ],
 "metadata": {
  "kernelspec": {
   "display_name": "Python 3",
   "language": "python",
   "name": "python3"
  },
  "language_info": {
   "codemirror_mode": {
    "name": "ipython",
    "version": 3
   },
   "file_extension": ".py",
   "mimetype": "text/x-python",
   "name": "python",
   "nbconvert_exporter": "python",
   "pygments_lexer": "ipython3",
   "version": "3.8.10"
  }
 },
 "nbformat": 4,
 "nbformat_minor": 2
}
