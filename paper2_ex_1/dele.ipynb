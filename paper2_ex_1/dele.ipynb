{
 "cells": [
  {
   "cell_type": "code",
   "execution_count": 2,
   "metadata": {},
   "outputs": [],
   "source": [
    "import sympy as sp\n",
    "\n",
    "# Define symbolic variables\n",
    "x, y = sp.symbols('x y')\n",
    "\n",
    "# Define a vector field function\n",
    "u = sp.sin(3.2*x*(x - y)) *sp.cos(4.3*y + x) + sp.sin(4.6*(x + 2*y))*sp.cos(2.6*(y - 2*x))\n",
    "\n",
    "mu=2 + sp.sin(x + 2*y)\n",
    "\n",
    "sigma=sp.exp(x/2 -y/3) +2\n",
    "\n",
    "beta1=sp.sqrt(x-y**2 +5) \n",
    "beta2=sp.sqrt(y-x**2 +5)"
   ]
  },
  {
   "cell_type": "code",
   "execution_count": 3,
   "metadata": {},
   "outputs": [],
   "source": [
    "# Calculate the gradient\n",
    "ux = sp.diff(u, x)\n",
    "uy = sp.diff(u, y)\n",
    "\n",
    "f1x = -sp.diff(mu*ux,x)\n",
    "f1y = -sp.diff(mu*uy,y)\n",
    "f_mu = f1x + f1y\n",
    "f_beta = beta1*ux + beta2*uy\n",
    "f_sigma = sigma*u\n",
    "\n",
    "f = f_mu + f_beta + f_sigma\n"
   ]
  },
  {
   "cell_type": "code",
   "execution_count": 6,
   "metadata": {},
   "outputs": [
    {
     "name": "stdout",
     "output_type": "stream",
     "text": [
      "Solution: sin(3.2*x*(x - y))*cos(x + 4.3*y) + sin(4.6*x + 9.2*y)*cos(5.2*x - 2.6*y)\n",
      "Gradient in x: (6.4*x - 3.2*y)*cos(3.2*x*(x - y))*cos(x + 4.3*y) - sin(3.2*x*(x - y))*sin(x + 4.3*y) - 5.2*sin(4.6*x + 9.2*y)*sin(5.2*x - 2.6*y) + 4.6*cos(4.6*x + 9.2*y)*cos(5.2*x - 2.6*y)\n",
      "Gradient in y: -3.2*x*cos(3.2*x*(x - y))*cos(x + 4.3*y) - 4.3*sin(3.2*x*(x - y))*sin(x + 4.3*y) + 2.6*sin(4.6*x + 9.2*y)*sin(5.2*x - 2.6*y) + 9.2*cos(4.6*x + 9.2*y)*cos(5.2*x - 2.6*y)\n",
      "f: (sin(3.2*x*(x - y))*cos(x + 4.3*y) + sin(4.6*x + 9.2*y)*cos(5.2*x - 2.6*y))*(exp(x/2 - y/3) + 2) - (sin(x + 2*y) + 2)*(-10.24*x**2*sin(3.2*x*(x - y))*cos(x + 4.3*y) + 27.52*x*sin(x + 4.3*y)*cos(3.2*x*(x - y)) - 18.49*sin(3.2*x*(x - y))*cos(x + 4.3*y) - 91.4*sin(4.6*x + 9.2*y)*cos(5.2*x - 2.6*y) + 47.84*sin(5.2*x - 2.6*y)*cos(4.6*x + 9.2*y)) - (sin(x + 2*y) + 2)*(-40.96*(x - 0.5*y)**2*sin(3.2*x*(x - y))*cos(x + 4.3*y) - 2*(6.4*x - 3.2*y)*sin(x + 4.3*y)*cos(3.2*x*(x - y)) - sin(3.2*x*(x - y))*cos(x + 4.3*y) - 48.2*sin(4.6*x + 9.2*y)*cos(5.2*x - 2.6*y) - 47.84*sin(5.2*x - 2.6*y)*cos(4.6*x + 9.2*y) + 6.4*cos(3.2*x*(x - y))*cos(x + 4.3*y)) + sqrt(x - y**2 + 5)*((6.4*x - 3.2*y)*cos(3.2*x*(x - y))*cos(x + 4.3*y) - sin(3.2*x*(x - y))*sin(x + 4.3*y) - 5.2*sin(4.6*x + 9.2*y)*sin(5.2*x - 2.6*y) + 4.6*cos(4.6*x + 9.2*y)*cos(5.2*x - 2.6*y)) + sqrt(-x**2 + y + 5)*(-3.2*x*cos(3.2*x*(x - y))*cos(x + 4.3*y) - 4.3*sin(3.2*x*(x - y))*sin(x + 4.3*y) + 2.6*sin(4.6*x + 9.2*y)*sin(5.2*x - 2.6*y) + 9.2*cos(4.6*x + 9.2*y)*cos(5.2*x - 2.6*y)) - 2*(-3.2*x*cos(3.2*x*(x - y))*cos(x + 4.3*y) - 4.3*sin(3.2*x*(x - y))*sin(x + 4.3*y) + 2.6*sin(4.6*x + 9.2*y)*sin(5.2*x - 2.6*y) + 9.2*cos(4.6*x + 9.2*y)*cos(5.2*x - 2.6*y))*cos(x + 2*y) - ((6.4*x - 3.2*y)*cos(3.2*x*(x - y))*cos(x + 4.3*y) - sin(3.2*x*(x - y))*sin(x + 4.3*y) - 5.2*sin(4.6*x + 9.2*y)*sin(5.2*x - 2.6*y) + 4.6*cos(4.6*x + 9.2*y)*cos(5.2*x - 2.6*y))*cos(x + 2*y)\n"
     ]
    }
   ],
   "source": [
    "# Display the results\n",
    "print(\"Solution:\", u)\n",
    "print(\"Gradient in x:\", ux)\n",
    "print(\"Gradient in y:\", uy)\n",
    "print(\"f:\", f)"
   ]
  },
  {
   "cell_type": "code",
   "execution_count": 9,
   "metadata": {},
   "outputs": [
    {
     "name": "stdout",
     "output_type": "stream",
     "text": [
      "f(1, 1)\n"
     ]
    }
   ],
   "source": [
    "f = sp.Function('f')\n",
    "print(f(1,1))"
   ]
  }
 ],
 "metadata": {
  "kernelspec": {
   "display_name": "Python 3",
   "language": "python",
   "name": "python3"
  },
  "language_info": {
   "codemirror_mode": {
    "name": "ipython",
    "version": 3
   },
   "file_extension": ".py",
   "mimetype": "text/x-python",
   "name": "python",
   "nbconvert_exporter": "python",
   "pygments_lexer": "ipython3",
   "version": "3.8.10"
  }
 },
 "nbformat": 4,
 "nbformat_minor": 2
}
