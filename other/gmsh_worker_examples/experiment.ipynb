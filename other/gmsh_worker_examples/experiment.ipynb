{
 "cells": [
  {
   "cell_type": "code",
   "execution_count": 1,
   "metadata": {},
   "outputs": [],
   "source": [
    "import meshio\n",
    "import triangle\n",
    "import matplotlib.pyplot as plt"
   ]
  },
  {
   "cell_type": "code",
   "execution_count": 2,
   "metadata": {},
   "outputs": [],
   "source": [
    "# mesh = meshio.read(\"unit_square_triangles.msh\")\n",
    "\n",
    "\n",
    "\n",
    "# # Print available cell types\n",
    "# for cell_data in mesh.cells:\n",
    "#     cell_type = cell_data.type\n",
    "#     print(cell_type)\n",
    "\n",
    "# # Find the cell block containing triangles\n",
    "# triangle_cells = None\n",
    "# for cell_data in mesh.cells:\n",
    "#     if cell_data.type == \"triangle\":\n",
    "#         triangle_cells = cell_data\n",
    "#         break\n",
    "\n",
    "# # Extract vertices and triangles\n",
    "# vertices = mesh.points\n",
    "# triangles = triangle_cells.data\n",
    "\n",
    "# # Plot the mesh\n",
    "# fig = plt.figure()\n",
    "# ax = fig.add_subplot(111, aspect='equal')\n",
    "\n",
    "# ax.triplot(vertices[:, 0], vertices[:, 1], triangles=triangles, color='blue')\n",
    "\n",
    "# ax.set_xlabel(\"X\")\n",
    "# ax.set_ylabel(\"Y\")\n",
    "\n"
   ]
  },
  {
   "cell_type": "code",
   "execution_count": 3,
   "metadata": {},
   "outputs": [],
   "source": [
    "# mesh = meshio.read(\"_refined.msh\")\n",
    "\n",
    "\n",
    "\n",
    "# Find the cell block containing triangles\n",
    "# triangle_cells = None\n",
    "# for cell_data in mesh.cells:\n",
    "#     if cell_data.type == \"triangle\":\n",
    "#         triangle_cells = cell_data\n",
    "#         break\n",
    "\n",
    "# # Extract vertices and triangles\n",
    "# vertices = mesh.points\n",
    "# triangles = triangle_cells.data\n",
    "\n",
    "# # Plot the mesh\n",
    "# fig = plt.figure()\n",
    "# ax = fig.add_subplot(111, aspect='equal')\n",
    "\n",
    "# ax.triplot(vertices[:, 0], vertices[:, 1], triangles=triangles, color='blue')\n",
    "\n",
    "# ax.set_xlabel(\"X\")\n",
    "# ax.set_ylabel(\"Y\")\n",
    "\n",
    "\n",
    "# mesh = meshio.read(\"_original.msh\")\n",
    "\n",
    "\n",
    "\n",
    "# Find the cell block containing triangles\n",
    "\n",
    "# vertices = mesh.points\n",
    "\n",
    "# plt.scatter(vertices[:,0],vertices[:,1],marker='o',color='g')\n",
    "\n",
    "# print(mesh)"
   ]
  },
  {
   "cell_type": "code",
   "execution_count": 4,
   "metadata": {},
   "outputs": [
    {
     "name": "stdout",
     "output_type": "stream",
     "text": [
      "['_refined1.msh', '_refined2.msh', '_refined0.msh']\n"
     ]
    }
   ],
   "source": [
    "import os \n",
    "\n",
    "import meshio\n",
    "import triangle\n",
    "import matplotlib.pyplot as plt\n",
    "from mpl_toolkits.mplot3d import Axes3D\n",
    "\n",
    "\n",
    "all_files=os.listdir()\n",
    "\n",
    "msh_files = [file for file in all_files if file.endswith(\".msh\")]\n",
    "\n",
    "\n",
    "print(msh_files)\n",
    "\n"
   ]
  },
  {
   "cell_type": "code",
   "execution_count": 5,
   "metadata": {},
   "outputs": [],
   "source": [
    "\n",
    "\n",
    "def plot_msh(name):\n",
    "\n",
    "    mesh = meshio.read(name)\n",
    "\n",
    "    # Find the cell block containing triangles\n",
    "\n",
    "\n",
    "    # Extract vertices and triangles\n",
    "    vertices = mesh.points\n",
    "    triangles = triangle_cells.data\n",
    "\n",
    "    # Plot the mesh\n",
    "    fig = plt.figure()\n",
    "    ax = fig.add_subplot(111, aspect='equal')\n",
    "\n",
    "    ax.triplot(vertices[:, 0], vertices[:, 1], triangles=triangles, color='blue')\n",
    "\n",
    "    ax.set_xlabel(\"X\")\n",
    "    ax.set_ylabel(\"Y\")\n",
    "\n"
   ]
  },
  {
   "cell_type": "code",
   "execution_count": 6,
   "metadata": {},
   "outputs": [
    {
     "name": "stdout",
     "output_type": "stream",
     "text": [
      "\n"
     ]
    },
    {
     "ename": "NameError",
     "evalue": "name 'triangle_cells' is not defined",
     "output_type": "error",
     "traceback": [
      "\u001b[0;31m---------------------------------------------------------------------------\u001b[0m",
      "\u001b[0;31mNameError\u001b[0m                                 Traceback (most recent call last)",
      "Cell \u001b[0;32mIn [6], line 2\u001b[0m\n\u001b[1;32m      1\u001b[0m \u001b[38;5;28;01mfor\u001b[39;00m i \u001b[38;5;129;01min\u001b[39;00m \u001b[38;5;28mrange\u001b[39m(\u001b[38;5;28mlen\u001b[39m(msh_files)\u001b[38;5;241m-\u001b[39m\u001b[38;5;241m1\u001b[39m):\n\u001b[0;32m----> 2\u001b[0m     \u001b[43mplot_msh\u001b[49m\u001b[43m(\u001b[49m\u001b[38;5;124;43m'\u001b[39;49m\u001b[38;5;124;43m_refined\u001b[39;49m\u001b[38;5;124;43m'\u001b[39;49m\u001b[38;5;241;43m+\u001b[39;49m\u001b[38;5;28;43mstr\u001b[39;49m\u001b[43m(\u001b[49m\u001b[43mi\u001b[49m\u001b[43m)\u001b[49m\u001b[38;5;241;43m+\u001b[39;49m\u001b[38;5;124;43m'\u001b[39;49m\u001b[38;5;124;43m.msh\u001b[39;49m\u001b[38;5;124;43m'\u001b[39;49m\u001b[43m)\u001b[49m\n",
      "Cell \u001b[0;32mIn [5], line 10\u001b[0m, in \u001b[0;36mplot_msh\u001b[0;34m(name)\u001b[0m\n\u001b[1;32m      5\u001b[0m \u001b[38;5;66;03m# Find the cell block containing triangles\u001b[39;00m\n\u001b[1;32m      6\u001b[0m \n\u001b[1;32m      7\u001b[0m \n\u001b[1;32m      8\u001b[0m \u001b[38;5;66;03m# Extract vertices and triangles\u001b[39;00m\n\u001b[1;32m      9\u001b[0m vertices \u001b[38;5;241m=\u001b[39m mesh\u001b[38;5;241m.\u001b[39mpoints\n\u001b[0;32m---> 10\u001b[0m triangles \u001b[38;5;241m=\u001b[39m \u001b[43mtriangle_cells\u001b[49m\u001b[38;5;241m.\u001b[39mdata\n\u001b[1;32m     12\u001b[0m \u001b[38;5;66;03m# Plot the mesh\u001b[39;00m\n\u001b[1;32m     13\u001b[0m fig \u001b[38;5;241m=\u001b[39m plt\u001b[38;5;241m.\u001b[39mfigure()\n",
      "\u001b[0;31mNameError\u001b[0m: name 'triangle_cells' is not defined"
     ]
    }
   ],
   "source": [
    "for i in range(len(msh_files)-1):\n",
    "    plot_msh('_refined'+str(i)+'.msh')"
   ]
  }
 ],
 "metadata": {
  "kernelspec": {
   "display_name": "Python 3",
   "language": "python",
   "name": "python3"
  },
  "language_info": {
   "codemirror_mode": {
    "name": "ipython",
    "version": 3
   },
   "file_extension": ".py",
   "mimetype": "text/x-python",
   "name": "python",
   "nbconvert_exporter": "python",
   "pygments_lexer": "ipython3",
   "version": "3.8.10"
  }
 },
 "nbformat": 4,
 "nbformat_minor": 2
}
