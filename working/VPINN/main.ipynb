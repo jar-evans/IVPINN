{
 "cells": [
  {
   "cell_type": "code",
   "execution_count": null,
   "metadata": {},
   "outputs": [],
   "source": [
    "from mesh import *\n",
    "\n",
    "from VPINN_tri_final import *\n",
    "\n",
    "from PROBDEF import PROBDEF\n"
   ]
  },
  {
   "cell_type": "code",
   "execution_count": null,
   "metadata": {},
   "outputs": [],
   "source": [
    "#seed\n",
    "initializer=tf.keras.initializers.GlorotUniform(seed=42)\n",
    "\n",
    "\n",
    "domain=((0,0),(1,0),(1,1),(0,1))\n",
    "\n",
    "mesh=generate_mesh(domain,0.1)"
   ]
  },
  {
   "cell_type": "code",
   "execution_count": null,
   "metadata": {},
   "outputs": [],
   "source": [
    "#network bulding \n",
    "\n",
    "\n",
    "#glorot uniform is the key \n",
    "model = tfk.models.Sequential()\n",
    "model.add(tf.keras.Input(shape=(2,),dtype=tf.float64))\n",
    "model.add(tfkl.Dense(10, activation='tanh',kernel_initializer=initializer,dtype=tf_type,bias_initializer=initializer))\n",
    "model.add(tfkl.Dense(10, activation='tanh',kernel_initializer=initializer,dtype=tf_type,bias_initializer=initializer))\n",
    "model.add(tfkl.Dense(10, activation='tanh',kernel_initializer=initializer,dtype=tf_type,bias_initializer=initializer))\n",
    "model.add(tfkl.Dense(10, activation='tanh',kernel_initializer=initializer,dtype=tf_type,bias_initializer=initializer))\n",
    "model.add(tf.keras.layers.Dense(1,activation='linear',kernel_initializer=initializer,dtype=tf_type,use_bias=True))"
   ]
  },
  {
   "cell_type": "code",
   "execution_count": null,
   "metadata": {},
   "outputs": [],
   "source": [
    "model.summary()"
   ]
  },
  {
   "cell_type": "code",
   "execution_count": null,
   "metadata": {},
   "outputs": [],
   "source": [
    "params = {'scheme': 'VPINNs',\n",
    "            'n_quad': 50,\n",
    "            'n_bound': 100, # points inside every edge,so in total you will have 80*4 +4 boundary points \n",
    "            'iter': 1000 ,\n",
    "            'n_test':2}"
   ]
  },
  {
   "cell_type": "code",
   "execution_count": null,
   "metadata": {},
   "outputs": [],
   "source": [
    "pb=PROBDEF()"
   ]
  },
  {
   "cell_type": "code",
   "execution_count": null,
   "metadata": {},
   "outputs": [],
   "source": [
    "vp=VPINN(pb,params,mesh,model)"
   ]
  },
  {
   "cell_type": "code",
   "execution_count": null,
   "metadata": {},
   "outputs": [],
   "source": [
    "#training \n",
    "history=vp.train(10000)\n"
   ]
  },
  {
   "cell_type": "code",
   "execution_count": null,
   "metadata": {},
   "outputs": [],
   "source": [
    "iterations = range(0, len(history) * 10, 10)  # Assuming losses are provided every 100 iterations\n",
    "\n",
    "plt.plot(iterations, history, marker='o')\n",
    "plt.title('Loss Function Over Iterations')\n",
    "plt.xlabel('Iterations')\n",
    "plt.ylabel('Loss')\n",
    "plt.grid()\n",
    "plt.show()"
   ]
  },
  {
   "cell_type": "code",
   "execution_count": null,
   "metadata": {},
   "outputs": [],
   "source": [
    "plt.semilogy(iterations, history, marker='o')\n",
    "plt.title('Loss Function Over Iterations (semilog scale)')\n",
    "plt.xlabel('Iterations')\n",
    "plt.ylabel('Loss')\n",
    "plt.grid()\n",
    "plt.show()"
   ]
  },
  {
   "cell_type": "code",
   "execution_count": null,
   "metadata": {},
   "outputs": [],
   "source": [
    "x=np.linspace(0,1,100,dtype=np.float32)\n",
    "\n",
    "def u_exact(x,y):\n",
    "\n",
    "    return np.cos(2*np.pi*x)*np.sin(2*np.pi*y)\n",
    "\n",
    "\n",
    "eval_exact=[u_exact(x[i],0.80) for i in range(len(x))]\n",
    "\n",
    "eval_net=[vp.u_NN(x[i],0.80) for i in range(len(x))]\n",
    "\n",
    "eval_exact=np.array(eval_exact)\n",
    "eval_net=np.array(eval_net)"
   ]
  },
  {
   "cell_type": "code",
   "execution_count": null,
   "metadata": {},
   "outputs": [],
   "source": [
    "plt.figure(figsize=(8, 6))  # Set the figure size\n",
    "\n",
    "# Plot the data\n",
    "plt.plot(x, eval_net, label='eval_net', linestyle='-', marker='o', color='b')\n",
    "plt.plot(x, eval_exact, label='eval_exact', linestyle='--', marker='x', color='r')\n",
    "plt.grid()\n",
    "plt.legend()\n",
    "\n",
    "#if you want reproducibility put a seed"
   ]
  },
  {
   "cell_type": "code",
   "execution_count": null,
   "metadata": {},
   "outputs": [],
   "source": [
    "#integration\n",
    "\"\"\"from scipy.integrate import dblquad\n",
    "integral,error=dblquad(lambda x,y: (u_exact(x,y)-vp.u_NN(x,y))**2, 0.0, 1.0,0.0, 1.0)\n",
    "\n",
    "L2_error=np.sqrt(integral)\n",
    "print(L2_error,error)\"\"\""
   ]
  },
  {
   "cell_type": "code",
   "execution_count": null,
   "metadata": {},
   "outputs": [],
   "source": [
    "## Add surface plot\n",
    "import numpy as np\n",
    "x=np.linspace(0,1,50,dtype=np.float32)\n",
    "XX,YY = np.meshgrid(x,x)\n",
    "xx = XX.flatten()\n",
    "yy = YY.flatten()\n",
    "\n",
    "X = np.vstack((xx,yy)).transpose()\n",
    "print(X)\n",
    "Z = [vp.u_NN(x[0],x[1]) for x in X]"
   ]
  },
  {
   "cell_type": "code",
   "execution_count": null,
   "metadata": {},
   "outputs": [],
   "source": [
    "# Plot the surface\n",
    "z = np.array(Z).flatten().reshape((50,50))\n",
    "# z = np.reshape(z, (50,50))\n",
    "fig, ax = plt.subplots(subplot_kw={\"projection\": \"3d\"})\n",
    "ax.plot_surface(XX, YY, z, vmin=z.min() * 2)\n",
    "\n",
    "ax.set(xticklabels=[],\n",
    "       yticklabels=[],\n",
    "       zticklabels=[])\n",
    "\n",
    "plt.show()\n",
    "\n",
    "from mpl_toolkits.mplot3d import Axes3D\n",
    "from matplotlib import cm\n",
    "from matplotlib.ticker import LinearLocator, FormatStrFormatter\n",
    "import matplotlib.pyplot as plt\n",
    "import numpy as np\n",
    "\n",
    "fig = plt.figure()\n",
    "ax = fig.add_subplot(projection='3d')\n",
    "surf = ax.plot_surface(XX, YY, z, rstride=1, cstride=1, cmap=cm.coolwarm,\n",
    "    linewidth=0, antialiased=False)\n",
    "ax.set_zlim(-1.01, 1.01)\n",
    "\n",
    "ax.zaxis.set_major_locator(LinearLocator(10))\n",
    "ax.zaxis.set_major_formatter(FormatStrFormatter('%.02f'))\n",
    "\n",
    "fig.colorbar(surf, shrink=0.5, aspect=5)\n",
    "plt.title('Original Code')"
   ]
  }
 ],
 "metadata": {
  "kernelspec": {
   "display_name": "base",
   "language": "python",
   "name": "python3"
  },
  "language_info": {
   "codemirror_mode": {
    "name": "ipython",
    "version": 3
   },
   "file_extension": ".py",
   "mimetype": "text/x-python",
   "name": "python",
   "nbconvert_exporter": "python",
   "pygments_lexer": "ipython3",
   "version": "3.8.10"
  }
 },
 "nbformat": 4,
 "nbformat_minor": 2
}
