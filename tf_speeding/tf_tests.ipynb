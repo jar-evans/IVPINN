{
 "cells": [
  {
   "cell_type": "code",
   "execution_count": 6,
   "metadata": {},
   "outputs": [],
   "source": [
    "import tensorflow as tf\n",
    "import timeit\n",
    "from datetime import datetime\n",
    "\n",
    "@tf.function\n",
    "def function(x):\n",
    "  a = tf.constant([[2.0], [3.0]])\n",
    "  b = tf.constant(4.0)\n",
    "  return a+b"
   ]
  },
  {
   "cell_type": "code",
   "execution_count": null,
   "metadata": {},
   "outputs": [],
   "source": [
    "# Plot a graph for function() using Tensorboard\n",
    "stamp = datetime.now().strftime(\"%Y%m%d-%H%M%S\")\n",
    "logdir = 'logs/func/%s' % stamp\n",
    "writer = tf.summary.create_file_writer(logdir)\n",
    "\n",
    "tf.summary.trace_on(graph=True, profiler=True)\n",
    "# Call only one tf.function when tracing.\n",
    "z = function(2)\n",
    "with writer.as_default():\n",
    "  tf.summary.trace_export(\n",
    "      name=\"function_trace\",\n",
    "      step=0,\n",
    "      profiler_outdir=logdir)"
   ]
  },
  {
   "cell_type": "code",
   "execution_count": null,
   "metadata": {},
   "outputs": [],
   "source": [
    "%load_ext tensorboard\n",
    "%tensorboard --logdir logs/func"
   ]
  },
  {
   "cell_type": "code",
   "execution_count": 3,
   "metadata": {},
   "outputs": [],
   "source": [
    "@tf.function\n",
    "def my_function_tf(point,indices):\n",
    "    \"\"\"inputs: point that you want to eval it must be in shape (n_points,1,2),indices set of indices if should be in shape (powers,2)\n",
    "       output : (n_points,powers)\n",
    "    \"\"\"\n",
    "    return tf.reduce_prod(tf.math.pow(point,indices),axis=2)\n",
    "\n",
    "def my_function(point,indices):\n",
    "    \"\"\"inputs: point that you want to eval it must be in shape (n_points,1,2),indices set of indices if should be in shape (powers,2)\n",
    "       output : (n_points,powers)\n",
    "    \"\"\"\n",
    "    return tf.reduce_prod(tf.math.pow(point,indices),axis=2)"
   ]
  },
  {
   "cell_type": "code",
   "execution_count": null,
   "metadata": {},
   "outputs": [],
   "source": [
    "stamp = datetime.now().strftime(\"%Y%m%d-%H%M%S\")\n",
    "logdir = 'logs/func/%s' % stamp\n",
    "writer = tf.summary.create_file_writer(logdir)\n",
    "\n",
    "tf.summary.trace_on(graph=True, profiler=True)\n",
    "# Call only one tf.function when tracing.\n",
    "\n",
    "point=tf.constant([[[1.2,2.0]],[[1.0,1.0]],[[1.0,1.0]]],dtype=tf.float32)\n",
    "indices=tf.constant([[1,2],[2,3]],dtype=tf.float32)\n",
    "my_function_tf(point,indices)\n",
    "\n",
    "\n",
    "with writer.as_default():\n",
    "  tf.summary.trace_export(\n",
    "      name=\"my_function\",\n",
    "      step=0,\n",
    "      profiler_outdir=logdir)"
   ]
  },
  {
   "cell_type": "code",
   "execution_count": null,
   "metadata": {},
   "outputs": [],
   "source": [
    "#%load_ext tensorboard\n",
    "#%tensorboard --logdir logs/func"
   ]
  },
  {
   "cell_type": "code",
   "execution_count": 4,
   "metadata": {},
   "outputs": [],
   "source": [
    "point=tf.constant([[[1.2,2.0]],[[1.0,1.0]],[[1.0,1.0]]],dtype=tf.float32)\n",
    "indices=tf.constant([[1,2],[2,3]],dtype=tf.float32)\n"
   ]
  },
  {
   "cell_type": "code",
   "execution_count": 9,
   "metadata": {},
   "outputs": [
    {
     "name": "stdout",
     "output_type": "stream",
     "text": [
      "Eager time: 3.388367095999911\n",
      "Graph time: 20.261748359999956\n"
     ]
    }
   ],
   "source": [
    "print(\"Eager time:\", timeit.timeit(lambda: my_function(point,indices), number=100000))\n",
    "print(\"Graph time:\", timeit.timeit(lambda: my_function_tf(point,indices), number=100000))\n"
   ]
  }
 ],
 "metadata": {
  "kernelspec": {
   "display_name": "base",
   "language": "python",
   "name": "python3"
  },
  "language_info": {
   "codemirror_mode": {
    "name": "ipython",
    "version": 3
   },
   "file_extension": ".py",
   "mimetype": "text/x-python",
   "name": "python",
   "nbconvert_exporter": "python",
   "pygments_lexer": "ipython3",
   "version": "3.9.6"
  }
 },
 "nbformat": 4,
 "nbformat_minor": 2
}
